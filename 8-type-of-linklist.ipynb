{
 "cells": [
  {
   "cell_type": "markdown",
   "metadata": {},
   "source": [
    "type of linked list"
   ]
  },
  {
   "cell_type": "code",
   "execution_count": 22,
   "metadata": {},
   "outputs": [
    {
     "name": "stdout",
     "output_type": "stream",
     "text": [
      "1\n",
      "2\n",
      "4\n"
     ]
    }
   ],
   "source": [
    "# # Types of Linked Lists\n",
    "#\n",
    "# In this notebook we'll explore three versions of linked-lists: singly-linked lists, doubly-linked lists, and circular lists.\n",
    "#\n",
    "# ## Singly Linked Lists\n",
    "#\n",
    "# In this linked list, each node in the list is connected only to the next node in the list.\n",
    "\n",
    "class Node:\n",
    "    def __init__(self, value):\n",
    "        self.value = value\n",
    "        self.next = None\n",
    "\n",
    "# A small linked list:\n",
    "\n",
    "head = Node(1)\n",
    "head.next = Node(2)\n",
    "\n",
    "\n",
    "class LinkedList:\n",
    "    def __init__(self):\n",
    "        self.head = None\n",
    "\n",
    "    def append(self, value):\n",
    "        if self.head is None:\n",
    "            self.head = Node(value)\n",
    "            return\n",
    "\n",
    "        # Move to the tail (the last node)\n",
    "        node = self.head\n",
    "        while node.next:\n",
    "            node = node.next\n",
    "\n",
    "        node.next = Node(value)\n",
    "        return\n",
    "\n",
    "\n",
    "# In[ ]:\n",
    "\n",
    "\n",
    "linked_list = LinkedList()\n",
    "linked_list.append(1)\n",
    "linked_list.append(2)\n",
    "linked_list.append(4)\n",
    "\n",
    "node = linked_list.head\n",
    "while node:\n",
    "    print(node.value)\n",
    "    node = node.next"
   ]
  },
  {
   "cell_type": "code",
   "execution_count": 24,
   "metadata": {},
   "outputs": [
    {
     "name": "stdout",
     "output_type": "stream",
     "text": [
      "Pass\n"
     ]
    }
   ],
   "source": [
    "\n",
    "class LinkedList:\n",
    "    def __init__(self):\n",
    "        self.head = None\n",
    "\n",
    "    def append(self, value):\n",
    "        if self.head is None:\n",
    "            self.head = Node(value)\n",
    "            return\n",
    "\n",
    "        # Move to the tail (the last node)\n",
    "        node = self.head\n",
    "        while node.next:\n",
    "            node = node.next\n",
    "\n",
    "        node.next = Node(value)\n",
    "        return\n",
    "\n",
    "    def to_list(self):\n",
    "\n",
    "        out_list = []\n",
    "\n",
    "        node = self.head\n",
    "        while node:\n",
    "            out_list.append(node.value)\n",
    "            node = node.next\n",
    "\n",
    "        return out_list\n",
    "\n",
    "\n",
    "# Test your method here\n",
    "linked_list = LinkedList()\n",
    "linked_list.append(3)\n",
    "linked_list.append(2)\n",
    "linked_list.append(-1)\n",
    "linked_list.append(0.2)\n",
    "\n",
    "print (\"Pass\" if  (linked_list.to_list() == [3, 2, -1, 0.2]) else \"Fail\")\n"
   ]
  },
  {
   "cell_type": "code",
   "execution_count": 25,
   "metadata": {},
   "outputs": [
    {
     "name": "stdout",
     "output_type": "stream",
     "text": [
      "Going forward through the list, should print 1, -2, 4\n",
      "1\n",
      "-2\n",
      "4\n",
      "\n",
      "Going backward through the list, should print 4, -2, 1\n",
      "4\n",
      "-2\n",
      "1\n"
     ]
    }
   ],
   "source": [
    "# ## Doubly Linked Lists\n",
    "# This type of list has connections backwards and forwards through the list.\n",
    "\n",
    "\n",
    "class DoubleNode:\n",
    "    def __init__(self, value):\n",
    "        self.value = value\n",
    "        self.next = None\n",
    "        self.previous = None\n",
    "        \n",
    "\n",
    "class DoublyLinkedList:\n",
    "    def __init__(self):\n",
    "        self.head = None\n",
    "        self.tail = None\n",
    "\n",
    "    def append(self, value):\n",
    "\n",
    "        if self.head == None:\n",
    "            self.head = DoubleNode(value)\n",
    "            self.tail = self.head\n",
    "            return\n",
    "\n",
    "        newnode = DoubleNode(value)\n",
    "        self.tail.next = newnode\n",
    "        newnode.previous = self.tail\n",
    "        self.tail = newnode\n",
    "\n",
    "        return\n",
    "\n",
    "# Test \n",
    "linked_list = DoublyLinkedList()\n",
    "linked_list.append(1)\n",
    "linked_list.append(-2)\n",
    "linked_list.append(4)\n",
    "\n",
    "print(\"Going forward through the list, should print 1, -2, 4\")\n",
    "node = linked_list.head\n",
    "while node:\n",
    "    print(node.value)\n",
    "    node = node.next\n",
    "\n",
    "print(\"\\nGoing backward through the list, should print 4, -2, 1\")\n",
    "node = linked_list.tail\n",
    "while node:\n",
    "    print(node.value)\n",
    "    node = node.previous"
   ]
  },
  {
   "cell_type": "code",
   "execution_count": null,
   "metadata": {},
   "outputs": [],
   "source": []
  }
 ],
 "metadata": {
  "kernelspec": {
   "display_name": "Python 3",
   "language": "python",
   "name": "python3"
  },
  "language_info": {
   "codemirror_mode": {
    "name": "ipython",
    "version": 3
   },
   "file_extension": ".py",
   "mimetype": "text/x-python",
   "name": "python",
   "nbconvert_exporter": "python",
   "pygments_lexer": "ipython3",
   "version": "3.7.4"
  }
 },
 "nbformat": 4,
 "nbformat_minor": 2
}
