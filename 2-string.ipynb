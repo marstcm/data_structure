{
 "cells": [
  {
   "cell_type": "markdown",
   "metadata": {},
   "source": [
    "String"
   ]
  },
  {
   "cell_type": "code",
   "execution_count": 4,
   "metadata": {},
   "outputs": [],
   "source": [
    "#reverse string\n",
    "def str_reverse(text):\n",
    "    size=len(text)\n",
    "    new=''\n",
    "    for index in range(size):\n",
    "        new = new + text[size-index-1]\n",
    "    return new"
   ]
  },
  {
   "cell_type": "code",
   "execution_count": 5,
   "metadata": {},
   "outputs": [
    {
     "name": "stdout",
     "output_type": "stream",
     "text": [
      "======== string_reverser\n",
      "Pass\n",
      "Pass\n",
      "Pass\n"
     ]
    }
   ],
   "source": [
    "#test\n",
    "print (\"======== string_reverser\")\n",
    "print (\"Pass\" if ('retaw' == str_reverse('water')) else \"Fail\")\n",
    "print (\"Pass\" if ('!noitalupinam gnirts gnicitcarP' == str_reverse('Practicing string manipulation!')) else \"Fail\")\n",
    "print (\"Pass\" if ('3432 :si edoc esuoh ehT' == str_reverse('The house code is: 2343')) else \"Fail\")"
   ]
  },
  {
   "cell_type": "code",
   "execution_count": 7,
   "metadata": {},
   "outputs": [
    {
     "name": "stdout",
     "output_type": "stream",
     "text": [
      "======== anagram_checker\n",
      "Pass\n",
      "Pass\n",
      "Pass\n",
      "Pass\n",
      "Pass\n"
     ]
    }
   ],
   "source": [
    "# #### Anagrams\n",
    "\n",
    "# The goal of this exercise is to write some code to determine if two strings are anagrams of each other.\n",
    "#\n",
    "# An anagram is a word (or phrase) that is formed by rearranging the letters of another word (or phrase).\n",
    "#\n",
    "# For example:\n",
    "# - \"rat\" is an anagram of \"art\"\n",
    "# - \"alert\" is an anagram of \"alter\"\n",
    "# - \"Slot machines\" is an anagram of \"Cash lost in me\"\n",
    "def anagram_chk(str1, str2):\n",
    "    new_str1 = str1.replace(\" \",\"\").lower()\n",
    "    new_str2 = str2.replace(\" \",\"\").lower()\n",
    "    \n",
    "    if len(new_str1) != len(new_str2):\n",
    "        return False\n",
    "    return sorted(new_str1) == sorted(new_str2)\n",
    "\n",
    "#test\n",
    "print (\"======== anagram_checker\")\n",
    "print (\"Pass\" if not (anagram_chk('water','waiter')) else \"Fail\")\n",
    "print (\"Pass\" if anagram_chk('Dormitory','Dirty room') else \"Fail\")\n",
    "print (\"Pass\" if anagram_chk('Slot machines', 'Cash lost in me') else \"Fail\")\n",
    "print (\"Pass\" if not (anagram_chk('A gentleman','Elegant men')) else \"Fail\")\n",
    "print (\"Pass\" if anagram_chk('Time and tide wait for no man','Notified madman into water') else \"Fail\")"
   ]
  },
  {
   "cell_type": "code",
   "execution_count": 9,
   "metadata": {},
   "outputs": [
    {
     "name": "stdout",
     "output_type": "stream",
     "text": [
      "======== word_flipper\n",
      "Pass\n",
      "Pass\n",
      "Pass\n"
     ]
    }
   ],
   "source": [
    "## #### Reverse the words in sentence\n",
    "\n",
    "# Given a sentence, reverse each word in the sentence while keeping the order the same!\n",
    "def word_flipper(str):\n",
    "    word_list = str.split(' ')\n",
    "    for ind in range(len(word_list)):\n",
    "        word_list[ind] = word_list[ind][::-1]\n",
    "    return \" \".join(word_list)\n",
    "\n",
    "\n",
    "# Test Cases\n",
    "print (\"======== word_flipper\")\n",
    "print (\"Pass\" if ('retaw' == word_flipper('water')) else \"Fail\")\n",
    "print (\"Pass\" if ('sihT si na elpmaxe' == word_flipper('This is an example')) else \"Fail\")\n",
    "print (\"Pass\" if ('sihT si eno llams pets rof ...' == word_flipper('This is one small step for ...')) else \"Fail\")"
   ]
  },
  {
   "cell_type": "code",
   "execution_count": 16,
   "metadata": {},
   "outputs": [
    {
     "name": "stdout",
     "output_type": "stream",
     "text": [
      "======== hamming_distance\n",
      "Pass\n",
      "Pass\n",
      "Pass\n",
      "Pass\n",
      "Pass\n"
     ]
    }
   ],
   "source": [
    "# #### Hamming Distance\n",
    "# In information theory, the Hamming distance between two strings of equal length is the number of positions at which the corresponding symbols are different. Calculate the Hamming distace for the following test cases.\n",
    "def ham_dist(str1, str2):\n",
    "    if len(str1) == len(str2):\n",
    "        count = 0\n",
    "        for idx in range(len(str1)):\n",
    "\n",
    "            if str1[idx] != str2[idx]:\n",
    "                count +=1\n",
    "        return count\n",
    "\n",
    "    else:\n",
    "        return None\n",
    "\n",
    "\n",
    "# Test Cases\n",
    "print (\"======== hamming_distance\")\n",
    "print (\"Pass\" if (10 == ham_dist('ACTTGACCGGG','GATCCGGTACA')) else \"Fail\")\n",
    "print (\"Pass\" if  (1 == ham_dist('shove','stove')) else \"Fail\")\n",
    "print (\"Pass\" if  (None == ham_dist('Slot machines', 'Cash lost in me')) else \"Fail\")\n",
    "print (\"Pass\" if  (9 == ham_dist('A gentleman','Elegant men')) else \"Fail\")\n",
    "print (\"Pass\" if  (2 == ham_dist('0101010100011101','0101010100010001')) else \"Fail\")"
   ]
  },
  {
   "cell_type": "code",
   "execution_count": null,
   "metadata": {},
   "outputs": [],
   "source": []
  }
 ],
 "metadata": {
  "kernelspec": {
   "display_name": "Python 3",
   "language": "python",
   "name": "python3"
  },
  "language_info": {
   "codemirror_mode": {
    "name": "ipython",
    "version": 3
   },
   "file_extension": ".py",
   "mimetype": "text/x-python",
   "name": "python",
   "nbconvert_exporter": "python",
   "pygments_lexer": "ipython3",
   "version": "3.7.4"
  }
 },
 "nbformat": 4,
 "nbformat_minor": 2
}
